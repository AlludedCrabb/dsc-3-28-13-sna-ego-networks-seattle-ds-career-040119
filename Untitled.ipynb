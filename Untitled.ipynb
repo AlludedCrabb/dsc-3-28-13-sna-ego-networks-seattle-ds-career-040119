{
 "cells": [
  {
   "cell_type": "code",
   "execution_count": 1,
   "metadata": {},
   "outputs": [],
   "source": [
    "import networkx as nx"
   ]
  },
  {
   "cell_type": "code",
   "execution_count": 2,
   "metadata": {},
   "outputs": [],
   "source": [
    "fh=open(\"higgs-retweet_network.edgelist\", 'rb')\n",
    "G = nx.read_weighted_edgelist(fh)\n",
    "fh.close()"
   ]
  },
  {
   "cell_type": "code",
   "execution_count": 3,
   "metadata": {},
   "outputs": [
    {
     "name": "stdout",
     "output_type": "stream",
     "text": [
      "Name: \n",
      "Type: Graph\n",
      "Number of nodes: 256491\n",
      "Number of edges: 327374\n",
      "Average degree:   2.5527\n",
      "Connected Components: 13199\n"
     ]
    }
   ],
   "source": [
    "print(nx.info(G))\n",
    "print ('Connected Components:', len(list(nx.connected_component_subgraphs(G))))"
   ]
  },
  {
   "cell_type": "code",
   "execution_count": 4,
   "metadata": {},
   "outputs": [
    {
     "data": {
      "text/plain": [
       "[223833,\n",
       " 17,\n",
       " 18,\n",
       " 14,\n",
       " 12,\n",
       " 16,\n",
       " 18,\n",
       " 18,\n",
       " 14,\n",
       " 12,\n",
       " 24,\n",
       " 69,\n",
       " 12,\n",
       " 25,\n",
       " 14,\n",
       " 19,\n",
       " 12,\n",
       " 12,\n",
       " 18,\n",
       " 11,\n",
       " 25,\n",
       " 49,\n",
       " 29,\n",
       " 14,\n",
       " 13,\n",
       " 15,\n",
       " 12,\n",
       " 18,\n",
       " 15,\n",
       " 19,\n",
       " 28,\n",
       " 11,\n",
       " 20,\n",
       " 11,\n",
       " 25,\n",
       " 13,\n",
       " 17,\n",
       " 12,\n",
       " 11,\n",
       " 11,\n",
       " 11,\n",
       " 17,\n",
       " 16,\n",
       " 18,\n",
       " 13,\n",
       " 12,\n",
       " 14,\n",
       " 18,\n",
       " 11,\n",
       " 21,\n",
       " 11,\n",
       " 11,\n",
       " 12,\n",
       " 15,\n",
       " 13,\n",
       " 22,\n",
       " 17,\n",
       " 11,\n",
       " 11,\n",
       " 11]"
      ]
     },
     "execution_count": 4,
     "metadata": {},
     "output_type": "execute_result"
    }
   ],
   "source": [
    "[len(c) for c in list(nx.connected_component_subgraphs(G)) if len(c) > 10]"
   ]
  },
  {
   "cell_type": "code",
   "execution_count": 5,
   "metadata": {},
   "outputs": [],
   "source": [
    "# The Island method Implementation \n",
    "\n",
    "def trim_edges(g, weight=1):\n",
    "        '''\n",
    "        Trim the graph after raising levels\n",
    "        '''\n",
    "        g2=nx.Graph()\n",
    "        for f, to, edata in g.edges(data=True):\n",
    "                if edata['weight'] > weight:                    \n",
    "                    g2.add_edge(f,to,weight = edata['weight'])\n",
    "        return g2\n",
    "    \n",
    "def island_method(g, iterations=5):\n",
    "    \n",
    "    '''\n",
    "    Raise the water level according to given threshold, for given iterations\n",
    "    Compute evenly spaced thresholds and produce a list of networks at each water level:\n",
    "    '''\n",
    "    weights= [edata['weight'] for f,to,edata in g.edges(data=True)]\n",
    "    minimum=int(min(weights))\n",
    "    maximum=int(max(weights))\n",
    "    step=int((maximum-minimum)/iterations)\n",
    "\n",
    "    return [[threshold, trim_edges(g, threshold)] for threshold in range(minimum,maximum,step)]"
   ]
  },
  {
   "cell_type": "code",
   "execution_count": 6,
   "metadata": {},
   "outputs": [
    {
     "name": "stdout",
     "output_type": "stream",
     "text": [
      "1 15433 1518\n",
      "7 295 47\n",
      "13 69 18\n",
      "19 28 12\n",
      "25 12 6\n",
      "31 2 1\n"
     ]
    }
   ],
   "source": [
    "largest_component=list(nx.connected_component_subgraphs(G))[0]\n",
    "\n",
    "islands=island_method(largest_component)\n",
    "\n",
    "for i in islands:\n",
    "\n",
    "    # print the threshold level, size of the graph, and number of connected components\n",
    "    print (i[0], len(i[1]), len(list(nx.connected_component_subgraphs(i[1]))))"
   ]
  },
  {
   "cell_type": "code",
   "execution_count": 7,
   "metadata": {},
   "outputs": [],
   "source": [
    "nx.draw(islands[0][1])"
   ]
  },
  {
   "cell_type": "code",
   "execution_count": null,
   "metadata": {},
   "outputs": [],
   "source": []
  }
 ],
 "metadata": {
  "kernelspec": {
   "display_name": "Python 3",
   "language": "python",
   "name": "python3"
  },
  "language_info": {
   "codemirror_mode": {
    "name": "ipython",
    "version": 3
   },
   "file_extension": ".py",
   "mimetype": "text/x-python",
   "name": "python",
   "nbconvert_exporter": "python",
   "pygments_lexer": "ipython3",
   "version": "3.6.4"
  }
 },
 "nbformat": 4,
 "nbformat_minor": 2
}
